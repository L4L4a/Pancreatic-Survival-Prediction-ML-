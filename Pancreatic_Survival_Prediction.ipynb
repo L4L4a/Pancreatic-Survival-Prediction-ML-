{
 "cells": [
  {
   "cell_type": "markdown",
   "id": "53222ffb",
   "metadata": {},
   "source": [
    "# Pancreatic Cancer Survival Prediction\n",
    "\n",
    "This ML project predicts survival status of pancreatic cancer patients using clinical data. Inspired by the Molecular Twin study, we apply Logistic Regression with Recursive Feature Elimination and a Random Forest model to classify survival outcomes."
   ]
  },
  {
   "cell_type": "code",
   "execution_count": null,
   "id": "63508767",
   "metadata": {},
   "outputs": [],
   "source": [
    "# Step 1: Import libraries\n",
    "import pandas as pd\n",
    "import numpy as np\n",
    "import matplotlib.pyplot as plt\n",
    "import seaborn as sns\n",
    "\n",
    "from sklearn.model_selection import train_test_split\n",
    "from sklearn.preprocessing import StandardScaler\n",
    "from sklearn.linear_model import LogisticRegression\n",
    "from sklearn.ensemble import RandomForestClassifier\n",
    "from sklearn.feature_selection import RFE\n",
    "from sklearn.metrics import classification_report, confusion_matrix\n"
   ]
  },
  {
   "cell_type": "markdown",
   "id": "7abc3dc6",
   "metadata": {},
   "source": [
    "## Step 2: Upload and Load Data"
   ]
  },
  {
   "cell_type": "code",
   "execution_count": null,
   "id": "44868f9b",
   "metadata": {},
   "outputs": [],
   "source": [
    "from google.colab import files\n",
    "uploaded = files.upload()\n",
    "df = pd.read_csv(\"pre_processed_pancreatic_sample.csv\")\n",
    "df = df.drop(columns=[\"Unnamed: 0\"])\n",
    "df.head()"
   ]
  },
  {
   "cell_type": "markdown",
   "id": "020bb132",
   "metadata": {},
   "source": [
    "## Step 3: Prepare Features and Labels"
   ]
  },
  {
   "cell_type": "code",
   "execution_count": null,
   "id": "abc3f507",
   "metadata": {},
   "outputs": [],
   "source": [
    "X = df.drop(\"Survival_Status\", axis=1)\n",
    "y = df[\"Survival_Status\"]\n",
    "\n",
    "X_train, X_test, y_train, y_test = train_test_split(X, y, test_size=0.2, random_state=42)"
   ]
  },
  {
   "cell_type": "markdown",
   "id": "3f777cda",
   "metadata": {},
   "source": [
    "## Step 4: Standardize Features"
   ]
  },
  {
   "cell_type": "code",
   "execution_count": null,
   "id": "b13fb28a",
   "metadata": {},
   "outputs": [],
   "source": [
    "scaler = StandardScaler()\n",
    "X_train_scaled = scaler.fit_transform(X_train)\n",
    "X_test_scaled = scaler.transform(X_test)"
   ]
  },
  {
   "cell_type": "markdown",
   "id": "b7d32731",
   "metadata": {},
   "source": [
    "## Step 5: Logistic Regression with RFE"
   ]
  },
  {
   "cell_type": "code",
   "execution_count": null,
   "id": "27b4e795",
   "metadata": {},
   "outputs": [],
   "source": [
    "lr = LogisticRegression(max_iter=1000)\n",
    "rfe = RFE(lr, n_features_to_select=15)\n",
    "X_train_rfe = rfe.fit_transform(X_train_scaled, y_train)\n",
    "X_test_rfe = rfe.transform(X_test_scaled)\n",
    "lr.fit(X_train_rfe, y_train)\n",
    "y_pred_lr = lr.predict(X_test_rfe)\n",
    "print(\"Logistic Regression Results:\\n\")\n",
    "print(classification_report(y_test, y_pred_lr))"
   ]
  },
  {
   "cell_type": "markdown",
   "id": "594f9ac5",
   "metadata": {},
   "source": [
    "## Step 6: Random Forest Classifier"
   ]
  },
  {
   "cell_type": "code",
   "execution_count": null,
   "id": "9807fa9d",
   "metadata": {},
   "outputs": [],
   "source": [
    "rf = RandomForestClassifier(n_estimators=100, random_state=42)\n",
    "rf.fit(X_train, y_train)\n",
    "y_pred_rf = rf.predict(X_test)\n",
    "print(\"Random Forest Results:\\n\")\n",
    "print(classification_report(y_test, y_pred_rf))"
   ]
  },
  {
   "cell_type": "markdown",
   "id": "8864e9a8",
   "metadata": {},
   "source": [
    "## Step 7: Confusion Matrix and Feature Importance"
   ]
  },
  {
   "cell_type": "code",
   "execution_count": null,
   "id": "85a1d1c4",
   "metadata": {},
   "outputs": [],
   "source": [
    "cm = confusion_matrix(y_test, y_pred_rf)\n",
    "plt.figure(figsize=(6, 4))\n",
    "sns.heatmap(cm, annot=True, fmt='d', cmap=\"Blues\", xticklabels=[\"Deceased\", \"Survived\"], yticklabels=[\"Deceased\", \"Survived\"])\n",
    "plt.title(\"Confusion Matrix - Random Forest\")\n",
    "plt.xlabel(\"Predicted\")\n",
    "plt.ylabel(\"Actual\")\n",
    "plt.show()\n",
    "\n",
    "importances = rf.feature_importances_\n",
    "features = X.columns\n",
    "importance_df = pd.DataFrame({\"Feature\": features, \"Importance\": importances})\n",
    "importance_df = importance_df.sort_values(by=\"Importance\", ascending=False).head(15)\n",
    "\n",
    "plt.figure(figsize=(10, 6))\n",
    "sns.barplot(x=\"Importance\", y=\"Feature\", data=importance_df)\n",
    "plt.title(\"Top 15 Important Features\")\n",
    "plt.show()"
   ]
  },
  {
   "cell_type": "markdown",
   "id": "3b6258d7",
   "metadata": {},
   "source": [
    "## Conclusion\n",
    "\n",
    "This notebook replicates the concept of using diverse clinical data to predict patient survival, similar to the Molecular Twin study. Random Forest performed well and highlighted the most important predictors in a resource-accessible clinical setting."
   ]
  }
 ],
 "metadata": {
  "colab": {
   "name": "Pancreatic_Survival_Prediction.ipynb"
  }
 },
 "nbformat": 4,
 "nbformat_minor": 5
}